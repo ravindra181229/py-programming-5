{
 "cells": [
  {
   "cell_type": "code",
   "execution_count": 23,
   "id": "cfa9d7ac",
   "metadata": {},
   "outputs": [
    {
     "name": "stdout",
     "output_type": "stream",
     "text": [
      "enter the first number: 6\n",
      "enter the second number: 7\n",
      "LCM of 6 and 7 is: 42.0\n"
     ]
    }
   ],
   "source": [
    "#Q1\n",
    "#program to find the lcm \n",
    "def lcm():\n",
    "    a = int(input(\"enter the first number: \"))\n",
    "    b = int(input(\"enter the second number: \"))\n",
    "    if a > b:\n",
    "        a, b = b, a\n",
    "    for i in range(1,a+1):\n",
    "        if a%i == 0 and b%i == 0:\n",
    "            gcd = i\n",
    "            lcm = (a*b)/gcd\n",
    "    print(\"LCM of\", a, \"and\", b, \"is:\", lcm)\n",
    "lcm()"
   ]
  },
  {
   "cell_type": "code",
   "execution_count": 24,
   "id": "ecd27110",
   "metadata": {},
   "outputs": [
    {
     "name": "stdout",
     "output_type": "stream",
     "text": [
      "Enter the first number: 4\n",
      "Enter the second number: 6\n",
      "The HCF is: 2\n"
     ]
    }
   ],
   "source": [
    "#Q2\n",
    "#program to find hcf\n",
    "def hcf():\n",
    "    a = int(input(\"Enter the first number: \"))\n",
    "    b = int(input(\"Enter the second number: \"))\n",
    "    while b:\n",
    "        a, b = b, a % b\n",
    "    print(\"The HCF is:\",a)\n",
    "hcf()"
   ]
  },
  {
   "cell_type": "code",
   "execution_count": 25,
   "id": "b541f0e6",
   "metadata": {},
   "outputs": [
    {
     "name": "stdout",
     "output_type": "stream",
     "text": [
      "enter the number: 5\n",
      "5 decimal =  0b101 binary value\n",
      "5 decimal =  0o5 octa value\n",
      "5 decimal =  0x5 hexa value\n"
     ]
    }
   ],
   "source": [
    "#Q3\n",
    "#progra, to convert decimal to binary,octa and hexadecimal\n",
    "def deci():\n",
    "    try:\n",
    "        decimal = int(input(\"enter the number: \"))\n",
    "        binary = bin(decimal)\n",
    "        octa = oct(decimal)\n",
    "        hexadecimal = hex(decimal)\n",
    "        \n",
    "        print(decimal, \"decimal = \", binary,\"binary value\")\n",
    "        print(decimal, \"decimal = \", octa,\"octa value\")\n",
    "        print(decimal, \"decimal = \", hexadecimal,\"hexa value\")\n",
    "    except Exception as e:\n",
    "        print(e)\n",
    "deci()"
   ]
  },
  {
   "cell_type": "code",
   "execution_count": 26,
   "id": "13e2c359",
   "metadata": {},
   "outputs": [
    {
     "name": "stdout",
     "output_type": "stream",
     "text": [
      "enter the name! ravindra\n",
      "THE ASCII OF THE CHARACTERS ARE [114, 97, 118, 105, 110, 100, 114, 97]\n"
     ]
    }
   ],
   "source": [
    "#Q4\n",
    "#program to find ascii value of the character\n",
    "try:\n",
    "    asc = input(\"enter the name! \")\n",
    "    ASCII = []\n",
    "    for i in range(len(asc)):\n",
    "        ASCII.append(ord(asc[i]))\n",
    "    \n",
    "    print(\"THE ASCII OF THE CHARACTERS ARE\",ASCII)\n",
    "except Exception as e:\n",
    "    print(e)"
   ]
  },
  {
   "cell_type": "code",
   "execution_count": 27,
   "id": "73f56313",
   "metadata": {},
   "outputs": [
    {
     "name": "stdout",
     "output_type": "stream",
     "text": [
      "Select operation.\n",
      "1.Add\n",
      "2.Subtract\n",
      "3.Multiply\n",
      "4.Divide\n",
      "Enter choice of operation(1/2/3/4): 3\n",
      "Enter first number: 4\n",
      "Enter second number: 5\n",
      "multiplication of numbers is:  20\n"
     ]
    }
   ],
   "source": [
    "#Q5\n",
    "#progarm to do basic math operation with simple calculator\n",
    "print(\"Select operation.\")\n",
    "print(\"1.Add\")\n",
    "print(\"2.Subtract\")\n",
    "print(\"3.Multiply\")\n",
    "print(\"4.Divide\")\n",
    "\n",
    "while True:\n",
    "    choice = input(\"Enter choice of operation(1/2/3/4): \")\n",
    "    if choice in ('1', '2', '3', '4'):\n",
    "        a = int(input(\"Enter first number: \"))\n",
    "        b = int(input(\"Enter second number: \"))\n",
    "\n",
    "        if choice == '1':\n",
    "            print(\"addition of numbers is: \",a + b)\n",
    "\n",
    "        elif choice == '2':\n",
    "            print(\"subtraction of numbers is: \",a - b)\n",
    "\n",
    "        elif choice == '3':\n",
    "            print(\"multiplication of numbers is: \",a*b)\n",
    "\n",
    "        elif choice == '4':\n",
    "            print(\"division of numbers is: \",a/b)\n",
    "        break\n",
    "    else:\n",
    "        print(\"Invalid Input\")"
   ]
  },
  {
   "cell_type": "code",
   "execution_count": null,
   "id": "315bb5f8",
   "metadata": {},
   "outputs": [],
   "source": []
  }
 ],
 "metadata": {
  "kernelspec": {
   "display_name": "Python 3",
   "language": "python",
   "name": "python3"
  },
  "language_info": {
   "codemirror_mode": {
    "name": "ipython",
    "version": 3
   },
   "file_extension": ".py",
   "mimetype": "text/x-python",
   "name": "python",
   "nbconvert_exporter": "python",
   "pygments_lexer": "ipython3",
   "version": "3.8.8"
  }
 },
 "nbformat": 4,
 "nbformat_minor": 5
}
